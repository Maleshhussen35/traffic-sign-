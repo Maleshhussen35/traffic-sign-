{
  "nbformat": 4,
  "nbformat_minor": 0,
  "metadata": {
    "colab": {
      "provenance": [],
      "gpuType": "T4",
      "authorship_tag": "ABX9TyMMrgDA0CddKOrRp0qjYkEo",
      "include_colab_link": true
    },
    "kernelspec": {
      "name": "python3",
      "display_name": "Python 3"
    },
    "language_info": {
      "name": "python"
    },
    "accelerator": "GPU"
  },
  "cells": [
    {
      "cell_type": "markdown",
      "metadata": {
        "id": "view-in-github",
        "colab_type": "text"
      },
      "source": [
        "<a href=\"https://colab.research.google.com/github/Maleshhussen35/traffic-sign-/blob/main/agrment_analyser_.ipynb\" target=\"_parent\"><img src=\"https://colab.research.google.com/assets/colab-badge.svg\" alt=\"Open In Colab\"/></a>"
      ]
    },
    {
      "cell_type": "markdown",
      "source": [
        "For the model to be build we supposed to intsalled and import the required libarries to build this model"
      ],
      "metadata": {
        "id": "isGAXMrD179w"
      }
    },
    {
      "cell_type": "code",
      "source": [
        "import tensorflow as tf\n",
        "from tensorflow.keras.models import Sequential\n",
        "from tensorflow.keras.layers import Embedding, SimpleRNN, Dense, Dropout, Bidirectional\n",
        "from tensorflow.keras.preprocessing.text import Tokenizer\n",
        "from tensorflow.keras.preprocessing.sequence import pad_sequences\n",
        "import numpy as np"
      ],
      "metadata": {
        "id": "XZPoOHzH2H47"
      },
      "execution_count": 1,
      "outputs": []
    },
    {
      "cell_type": "markdown",
      "source": [
        "secondly we load and prepare the dataset"
      ],
      "metadata": {
        "id": "gmNj3zhy2V2j"
      }
    },
    {
      "cell_type": "code",
      "source": [
        "texts = [\n",
        "    \"This agreement is governed by the laws of the State of California.\",\n",
        "    \"The parties agree to indemnify each other.\",\n",
        "    \"This contract shall terminate upon breach.\",\n",
        "    \"All confidential information must be kept secure.\",\n",
        "    \"The parties agree to resolve disputes through arbitration.\",\n",
        "    \"This agreement is subject to the laws of New York.\",\n",
        "    \"The indemnification clause applies to all claims.\",\n",
        "    \"This contract will terminate after five years.\",\n",
        "    \"Confidential information shall not be disclosed to third parties.\",\n",
        "    \"Any disputes arising from this agreement will be settled in court.\",\n",
        "    \"This agreement is governed by the laws of the United Kingdom.\",\n",
        "    \"The indemnification clause covers all legal fees.\",\n",
        "    \"This contract shall terminate upon mutual agreement.\",\n",
        "    \"Confidential information includes all business strategies.\",\n",
        "    \"Disputes will be resolved through mediation.\",\n",
        "    \"This agreement is governed by the laws of the State of Texas.\",\n",
        "    \"The indemnification clause is binding for all parties.\",\n",
        "    \"This contract will terminate if either party fails to perform.\",\n",
        "    \"Confidential information must be returned upon termination.\",\n",
        "    \"Any disputes will be handled by a neutral arbitrator.\",\n",
        "    \"This agreement is governed by the laws of the European Union.\",\n",
        "    \"The indemnification clause applies to third-party claims.\",\n",
        "    \"This contract shall terminate upon completion of the project.\",\n",
        "    \"Confidential information is defined in Appendix A.\",\n",
        "    \"Disputes will be resolved in accordance with the AAA rules.\",\n",
        "    \"This agreement is governed by the laws of the State of Florida.\",\n",
        "    \"The indemnification clause includes all damages and losses.\",\n",
        "    \"This contract will terminate if funding is not secured.\",\n",
        "    \"Confidential information must be marked as such.\",\n",
        "    \"Any disputes will be resolved in the jurisdiction of Delaware.\",\n",
        "    \"This agreement is governed by the laws of the State of Illinois.\",\n",
        "    \"The indemnification clause is enforceable in all jurisdictions.\",\n",
        "    \"This contract shall terminate upon written notice.\",\n",
        "    \"Confidential information is protected under this agreement.\",\n",
        "    \"Disputes will be resolved through binding arbitration.\",\n",
        "    \"This agreement is governed by the laws of the State of Washington.\",\n",
        "    \"The indemnification clause applies to all related entities.\",\n",
        "    \"This contract will terminate if the project is canceled.\",\n",
        "    \"Confidential information must not be used for personal gain.\",\n",
        "    \"Any disputes will be resolved in the state of incorporation.\",\n",
        "    \"This agreement is governed by the laws of the State of Colorado.\",\n",
        "    \"The indemnification clause covers all indirect damages.\",\n",
        "    \"This contract shall terminate upon expiration of the term.\",\n",
        "    \"Confidential information is subject to non-disclosure.\",\n",
        "    \"Disputes will be resolved through expert determination.\",\n",
        "    \"This agreement is governed by the laws of the State of Georgia.\",\n",
        "    \"The indemnification clause is limited to direct damages.\",\n",
        "    \"This contract will terminate if regulatory approval is denied.\",\n",
        "    \"Confidential information must be stored securely.\",\n",
        "    \"Any disputes will be resolved through litigation.\"\n",
        "]\n",
        "\n",
        "labels = [\n",
        "    \"governing_law\", \"indemnification\", \"termination\", \"confidentiality\", \"dispute_resolution\",\n",
        "    \"governing_law\", \"indemnification\", \"termination\", \"confidentiality\", \"dispute_resolution\",\n",
        "    \"governing_law\", \"indemnification\", \"termination\", \"confidentiality\", \"dispute_resolution\",\n",
        "    \"governing_law\", \"indemnification\", \"termination\", \"confidentiality\", \"dispute_resolution\",\n",
        "    \"governing_law\", \"indemnification\", \"termination\", \"confidentiality\", \"dispute_resolution\",\n",
        "    \"governing_law\", \"indemnification\", \"termination\", \"confidentiality\", \"dispute_resolution\",\n",
        "    \"governing_law\", \"indemnification\", \"termination\", \"confidentiality\", \"dispute_resolution\",\n",
        "    \"governing_law\", \"indemnification\", \"termination\", \"confidentiality\", \"dispute_resolution\",\n",
        "    \"governing_law\", \"indemnification\", \"termination\", \"confidentiality\", \"dispute_resolution\",\n",
        "    \"governing_law\", \"indemnification\", \"termination\", \"confidentiality\", \"dispute_resolution\"\n",
        "]\n",
        "\n",
        "# Tokenize the text\n",
        "tokenizer = Tokenizer(num_words=5000)  # Limit vocabulary to 5000 words\n",
        "tokenizer.fit_on_texts(texts)\n",
        "sequences = tokenizer.texts_to_sequences(texts)\n",
        "\n",
        "# Pad sequences to ensure uniform input size\n",
        "data = pad_sequences(sequences, maxlen=50)  # Pad to a maximum length of 50 tokens\n",
        "\n",
        "# Convert labels to one-hot encoded vectors\n",
        "label_to_index = {label: idx for idx, label in enumerate(set(labels))}\n",
        "index_to_label = {idx: label for label, idx in label_to_index.items()}\n",
        "encoded_labels = np.array([label_to_index[label] for label in labels])\n",
        "encoded_labels = tf.keras.utils.to_categorical(encoded_labels, num_classes=len(label_to_index))"
      ],
      "metadata": {
        "id": "_F_wf1TT2dj7"
      },
      "execution_count": 3,
      "outputs": []
    },
    {
      "cell_type": "markdown",
      "source": [
        "we build a rnn model"
      ],
      "metadata": {
        "id": "ggRYH7XT3PjG"
      }
    },
    {
      "cell_type": "code",
      "source": [
        "model = Sequential()\n",
        "\n",
        "# Embedding layer to convert token indices into dense vectors\n",
        "model.add(Embedding(input_dim=5000, output_dim=128, input_length=50))\n",
        "\n",
        "# Simple RNN layer\n",
        "model.add(SimpleRNN(128, return_sequences=False))  # Set return_sequences=True for stacked RNNs\n",
        "\n",
        "# Dropout for regularization\n",
        "model.add(Dropout(0.5))\n",
        "\n",
        "# Dense output layer with softmax activation for multi-class classification\n",
        "model.add(Dense(len(label_to_index), activation='softmax'))\n",
        "\n",
        "# Compile the model\n",
        "model.compile(optimizer='adam', loss='categorical_crossentropy', metrics=['accuracy'])\n",
        "\n",
        "# Print model summary\n",
        "model.summary()"
      ],
      "metadata": {
        "colab": {
          "base_uri": "https://localhost:8080/",
          "height": 292
        },
        "id": "sOuGWskQ3URQ",
        "outputId": "81d5cbf0-8a56-469e-c38e-e693e385823d"
      },
      "execution_count": 4,
      "outputs": [
        {
          "output_type": "stream",
          "name": "stderr",
          "text": [
            "/usr/local/lib/python3.11/dist-packages/keras/src/layers/core/embedding.py:90: UserWarning: Argument `input_length` is deprecated. Just remove it.\n",
            "  warnings.warn(\n"
          ]
        },
        {
          "output_type": "display_data",
          "data": {
            "text/plain": [
              "\u001b[1mModel: \"sequential\"\u001b[0m\n"
            ],
            "text/html": [
              "<pre style=\"white-space:pre;overflow-x:auto;line-height:normal;font-family:Menlo,'DejaVu Sans Mono',consolas,'Courier New',monospace\"><span style=\"font-weight: bold\">Model: \"sequential\"</span>\n",
              "</pre>\n"
            ]
          },
          "metadata": {}
        },
        {
          "output_type": "display_data",
          "data": {
            "text/plain": [
              "┏━━━━━━━━━━━━━━━━━━━━━━━━━━━━━━━━━━━━━━┳━━━━━━━━━━━━━━━━━━━━━━━━━━━━━┳━━━━━━━━━━━━━━━━━┓\n",
              "┃\u001b[1m \u001b[0m\u001b[1mLayer (type)                        \u001b[0m\u001b[1m \u001b[0m┃\u001b[1m \u001b[0m\u001b[1mOutput Shape               \u001b[0m\u001b[1m \u001b[0m┃\u001b[1m \u001b[0m\u001b[1m        Param #\u001b[0m\u001b[1m \u001b[0m┃\n",
              "┡━━━━━━━━━━━━━━━━━━━━━━━━━━━━━━━━━━━━━━╇━━━━━━━━━━━━━━━━━━━━━━━━━━━━━╇━━━━━━━━━━━━━━━━━┩\n",
              "│ embedding (\u001b[38;5;33mEmbedding\u001b[0m)                │ ?                           │     \u001b[38;5;34m0\u001b[0m (unbuilt) │\n",
              "├──────────────────────────────────────┼─────────────────────────────┼─────────────────┤\n",
              "│ simple_rnn (\u001b[38;5;33mSimpleRNN\u001b[0m)               │ ?                           │     \u001b[38;5;34m0\u001b[0m (unbuilt) │\n",
              "├──────────────────────────────────────┼─────────────────────────────┼─────────────────┤\n",
              "│ dropout (\u001b[38;5;33mDropout\u001b[0m)                    │ ?                           │               \u001b[38;5;34m0\u001b[0m │\n",
              "├──────────────────────────────────────┼─────────────────────────────┼─────────────────┤\n",
              "│ dense (\u001b[38;5;33mDense\u001b[0m)                        │ ?                           │     \u001b[38;5;34m0\u001b[0m (unbuilt) │\n",
              "└──────────────────────────────────────┴─────────────────────────────┴─────────────────┘\n"
            ],
            "text/html": [
              "<pre style=\"white-space:pre;overflow-x:auto;line-height:normal;font-family:Menlo,'DejaVu Sans Mono',consolas,'Courier New',monospace\">┏━━━━━━━━━━━━━━━━━━━━━━━━━━━━━━━━━━━━━━┳━━━━━━━━━━━━━━━━━━━━━━━━━━━━━┳━━━━━━━━━━━━━━━━━┓\n",
              "┃<span style=\"font-weight: bold\"> Layer (type)                         </span>┃<span style=\"font-weight: bold\"> Output Shape                </span>┃<span style=\"font-weight: bold\">         Param # </span>┃\n",
              "┡━━━━━━━━━━━━━━━━━━━━━━━━━━━━━━━━━━━━━━╇━━━━━━━━━━━━━━━━━━━━━━━━━━━━━╇━━━━━━━━━━━━━━━━━┩\n",
              "│ embedding (<span style=\"color: #0087ff; text-decoration-color: #0087ff\">Embedding</span>)                │ ?                           │     <span style=\"color: #00af00; text-decoration-color: #00af00\">0</span> (unbuilt) │\n",
              "├──────────────────────────────────────┼─────────────────────────────┼─────────────────┤\n",
              "│ simple_rnn (<span style=\"color: #0087ff; text-decoration-color: #0087ff\">SimpleRNN</span>)               │ ?                           │     <span style=\"color: #00af00; text-decoration-color: #00af00\">0</span> (unbuilt) │\n",
              "├──────────────────────────────────────┼─────────────────────────────┼─────────────────┤\n",
              "│ dropout (<span style=\"color: #0087ff; text-decoration-color: #0087ff\">Dropout</span>)                    │ ?                           │               <span style=\"color: #00af00; text-decoration-color: #00af00\">0</span> │\n",
              "├──────────────────────────────────────┼─────────────────────────────┼─────────────────┤\n",
              "│ dense (<span style=\"color: #0087ff; text-decoration-color: #0087ff\">Dense</span>)                        │ ?                           │     <span style=\"color: #00af00; text-decoration-color: #00af00\">0</span> (unbuilt) │\n",
              "└──────────────────────────────────────┴─────────────────────────────┴─────────────────┘\n",
              "</pre>\n"
            ]
          },
          "metadata": {}
        },
        {
          "output_type": "display_data",
          "data": {
            "text/plain": [
              "\u001b[1m Total params: \u001b[0m\u001b[38;5;34m0\u001b[0m (0.00 B)\n"
            ],
            "text/html": [
              "<pre style=\"white-space:pre;overflow-x:auto;line-height:normal;font-family:Menlo,'DejaVu Sans Mono',consolas,'Courier New',monospace\"><span style=\"font-weight: bold\"> Total params: </span><span style=\"color: #00af00; text-decoration-color: #00af00\">0</span> (0.00 B)\n",
              "</pre>\n"
            ]
          },
          "metadata": {}
        },
        {
          "output_type": "display_data",
          "data": {
            "text/plain": [
              "\u001b[1m Trainable params: \u001b[0m\u001b[38;5;34m0\u001b[0m (0.00 B)\n"
            ],
            "text/html": [
              "<pre style=\"white-space:pre;overflow-x:auto;line-height:normal;font-family:Menlo,'DejaVu Sans Mono',consolas,'Courier New',monospace\"><span style=\"font-weight: bold\"> Trainable params: </span><span style=\"color: #00af00; text-decoration-color: #00af00\">0</span> (0.00 B)\n",
              "</pre>\n"
            ]
          },
          "metadata": {}
        },
        {
          "output_type": "display_data",
          "data": {
            "text/plain": [
              "\u001b[1m Non-trainable params: \u001b[0m\u001b[38;5;34m0\u001b[0m (0.00 B)\n"
            ],
            "text/html": [
              "<pre style=\"white-space:pre;overflow-x:auto;line-height:normal;font-family:Menlo,'DejaVu Sans Mono',consolas,'Courier New',monospace\"><span style=\"font-weight: bold\"> Non-trainable params: </span><span style=\"color: #00af00; text-decoration-color: #00af00\">0</span> (0.00 B)\n",
              "</pre>\n"
            ]
          },
          "metadata": {}
        }
      ]
    },
    {
      "cell_type": "markdown",
      "source": [
        "training the model"
      ],
      "metadata": {
        "id": "KgTaNf-K3nwC"
      }
    },
    {
      "cell_type": "code",
      "source": [
        "# Train the model\n",
        "model.fit(data, encoded_labels, epochs=10, batch_size=32, validation_split=0.2)"
      ],
      "metadata": {
        "colab": {
          "base_uri": "https://localhost:8080/"
        },
        "id": "W2A4_x1B3qAV",
        "outputId": "d61ab3a0-82ce-4117-86a9-5305ff5a75ec"
      },
      "execution_count": 5,
      "outputs": [
        {
          "output_type": "stream",
          "name": "stdout",
          "text": [
            "Epoch 1/10\n",
            "\u001b[1m2/2\u001b[0m \u001b[32m━━━━━━━━━━━━━━━━━━━━\u001b[0m\u001b[37m\u001b[0m \u001b[1m7s\u001b[0m 3s/step - accuracy: 0.1688 - loss: 1.6161 - val_accuracy: 0.4000 - val_loss: 1.4771\n",
            "Epoch 2/10\n",
            "\u001b[1m2/2\u001b[0m \u001b[32m━━━━━━━━━━━━━━━━━━━━\u001b[0m\u001b[37m\u001b[0m \u001b[1m0s\u001b[0m 59ms/step - accuracy: 0.4458 - loss: 1.4472 - val_accuracy: 0.6000 - val_loss: 1.3471\n",
            "Epoch 3/10\n",
            "\u001b[1m2/2\u001b[0m \u001b[32m━━━━━━━━━━━━━━━━━━━━\u001b[0m\u001b[37m\u001b[0m \u001b[1m0s\u001b[0m 58ms/step - accuracy: 0.5271 - loss: 1.3332 - val_accuracy: 0.5000 - val_loss: 1.2231\n",
            "Epoch 4/10\n",
            "\u001b[1m2/2\u001b[0m \u001b[32m━━━━━━━━━━━━━━━━━━━━\u001b[0m\u001b[37m\u001b[0m \u001b[1m0s\u001b[0m 60ms/step - accuracy: 0.6750 - loss: 1.1932 - val_accuracy: 0.7000 - val_loss: 1.1696\n",
            "Epoch 5/10\n",
            "\u001b[1m2/2\u001b[0m \u001b[32m━━━━━━━━━━━━━━━━━━━━\u001b[0m\u001b[37m\u001b[0m \u001b[1m0s\u001b[0m 57ms/step - accuracy: 0.7292 - loss: 1.1534 - val_accuracy: 0.9000 - val_loss: 1.0559\n",
            "Epoch 6/10\n",
            "\u001b[1m2/2\u001b[0m \u001b[32m━━━━━━━━━━━━━━━━━━━━\u001b[0m\u001b[37m\u001b[0m \u001b[1m0s\u001b[0m 55ms/step - accuracy: 0.7979 - loss: 1.0312 - val_accuracy: 0.7000 - val_loss: 0.9704\n",
            "Epoch 7/10\n",
            "\u001b[1m2/2\u001b[0m \u001b[32m━━━━━━━━━━━━━━━━━━━━\u001b[0m\u001b[37m\u001b[0m \u001b[1m0s\u001b[0m 67ms/step - accuracy: 0.8479 - loss: 0.8734 - val_accuracy: 0.9000 - val_loss: 0.9257\n",
            "Epoch 8/10\n",
            "\u001b[1m2/2\u001b[0m \u001b[32m━━━━━━━━━━━━━━━━━━━━\u001b[0m\u001b[37m\u001b[0m \u001b[1m0s\u001b[0m 59ms/step - accuracy: 0.9229 - loss: 0.7826 - val_accuracy: 0.9000 - val_loss: 0.8476\n",
            "Epoch 9/10\n",
            "\u001b[1m2/2\u001b[0m \u001b[32m━━━━━━━━━━━━━━━━━━━━\u001b[0m\u001b[37m\u001b[0m \u001b[1m0s\u001b[0m 56ms/step - accuracy: 0.9729 - loss: 0.7383 - val_accuracy: 1.0000 - val_loss: 0.7709\n",
            "Epoch 10/10\n",
            "\u001b[1m2/2\u001b[0m \u001b[32m━━━━━━━━━━━━━━━━━━━━\u001b[0m\u001b[37m\u001b[0m \u001b[1m0s\u001b[0m 56ms/step - accuracy: 0.9729 - loss: 0.6562 - val_accuracy: 1.0000 - val_loss: 0.7019\n"
          ]
        },
        {
          "output_type": "execute_result",
          "data": {
            "text/plain": [
              "<keras.src.callbacks.history.History at 0x7821987062d0>"
            ]
          },
          "metadata": {},
          "execution_count": 5
        }
      ]
    },
    {
      "cell_type": "markdown",
      "source": [
        "working and making a prediction"
      ],
      "metadata": {
        "id": "yBfg0KPv32a1"
      }
    },
    {
      "cell_type": "code",
      "source": [
        "# Example prediction\n",
        "new_text = [\"This agreement shall be governed by the laws of New York.\"]\n",
        "new_sequence = tokenizer.texts_to_sequences(new_text)\n",
        "new_padded = pad_sequences(new_sequence, maxlen=50)\n",
        "\n",
        "prediction = model.predict(new_padded)\n",
        "predicted_label = index_to_label[np.argmax(prediction)]\n",
        "print(f\"Predicted Label: {predicted_label}\")"
      ],
      "metadata": {
        "colab": {
          "base_uri": "https://localhost:8080/"
        },
        "id": "4eYroHWZ35kP",
        "outputId": "10fda0d0-d200-4290-d3de-b62cc4607b6f"
      },
      "execution_count": 6,
      "outputs": [
        {
          "output_type": "stream",
          "name": "stdout",
          "text": [
            "\u001b[1m1/1\u001b[0m \u001b[32m━━━━━━━━━━━━━━━━━━━━\u001b[0m\u001b[37m\u001b[0m \u001b[1m0s\u001b[0m 351ms/step\n",
            "Predicted Label: governing_law\n"
          ]
        }
      ]
    }
  ]
}